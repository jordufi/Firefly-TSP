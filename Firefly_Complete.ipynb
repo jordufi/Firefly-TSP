{
  "cells": [
    {
      "cell_type": "markdown",
      "source": [
        "Autor:Sergio Donis Ebri\n",
        "Correo: s.donis@alumnos.upm.es"
      ],
      "metadata": {
        "id": "770LoIp6-Pb9"
      }
    },
    {
      "cell_type": "markdown",
      "source": [
        "# IMPORTANTE\n",
        "LEER ANTES EL PDF\n",
        "Es necesario para ejecutar correctamente el programa, descomentar el problema con su coste optimo que se quiera probar. Tambien es necesario tener el problema en local. Los archivos se pueden descargar del siguiente link:\n",
        "\n",
        "http://comopt.ifi.uni-heidelberg.de/software/TSPLIB95/tsp/"
      ],
      "metadata": {
        "id": "5cGx-9B4ylP5"
      }
    },
    {
      "cell_type": "code",
      "execution_count": null,
      "metadata": {
        "id": "Xw19uT7zyKPY"
      },
      "outputs": [],
      "source": [
        "#http://comopt.ifi.uni-heidelberg.de/software/TSPLIB95/tsp/\n",
        "import math\n",
        "import matplotlib\n",
        "import matplotlib.pyplot as plt\n",
        "import numpy as np\n",
        "import random\n",
        "from copy import deepcopy\n",
        "#https://buildmedia.readthedocs.org/media/pdf/tsplib95/latest/tsplib95.pdf"
      ]
    },
    {
      "cell_type": "code",
      "source": [
        "pip install tsplib95"
      ],
      "metadata": {
        "colab": {
          "base_uri": "https://localhost:8080/"
        },
        "id": "pkmQ9dWKttw6",
        "outputId": "12f115d6-4a01-4b0a-d9ce-44bcc61e13e4"
      },
      "execution_count": null,
      "outputs": [
        {
          "output_type": "stream",
          "name": "stdout",
          "text": [
            "Looking in indexes: https://pypi.org/simple, https://us-python.pkg.dev/colab-wheels/public/simple/\n",
            "Requirement already satisfied: tsplib95 in /usr/local/lib/python3.8/dist-packages (0.7.1)\n",
            "Requirement already satisfied: Deprecated~=1.2.9 in /usr/local/lib/python3.8/dist-packages (from tsplib95) (1.2.13)\n",
            "Requirement already satisfied: tabulate~=0.8.7 in /usr/local/lib/python3.8/dist-packages (from tsplib95) (0.8.10)\n",
            "Requirement already satisfied: networkx~=2.1 in /usr/local/lib/python3.8/dist-packages (from tsplib95) (2.8.8)\n",
            "Requirement already satisfied: Click>=6.0 in /usr/local/lib/python3.8/dist-packages (from tsplib95) (7.1.2)\n",
            "Requirement already satisfied: wrapt<2,>=1.10 in /usr/local/lib/python3.8/dist-packages (from Deprecated~=1.2.9->tsplib95) (1.14.1)\n"
          ]
        }
      ]
    },
    {
      "cell_type": "code",
      "source": [
        "import tsplib95\n",
        "import tsplib95.loaders \n",
        "\n",
        "problema=tsplib95.load_problem('./ulysses16.tsp')#6859\n",
        "pathoptimo=[1, 14, 13, 12, 7, 6, 15, 5, 11, 9, 10, 16, 3, 2, 4, 8]\n",
        "costeoptimo=6859\n",
        "\n",
        "#problema=tsplib95.load_problem('./ulysses22.tsp')#7013\n",
        "#pathoptimo=[1, 8, 18, 4, 22, 17, 2, 3, 16, 21, 20, 19, 10, 9, 11, 5, 15, 6, 7, 12, 13, 14]\n",
        "#costeoptimo=7013\n",
        "\n",
        "#problema=tsplib95.load_problem('./gr202.tsp')#40160\n",
        "#costeoptimo=40160\n",
        "\n",
        "#problema=tsplib95.load_problem('./tsp225.tsp')#3845\n",
        "#costeoptimo=3845 \n",
        "\n",
        "#problema=tsplib95.load_problem('./a280.tsp')#2578\n",
        "#costeoptimo=2578 \n",
        "\n",
        "#problema=tsplib95.load_problem('./pcb442.tsp')#\n",
        "#costeoptimo=50778\n",
        "\n",
        "#problema=tsplib95.load_problem('./gr666.tsp')\n",
        "#costeoptimo=294358\n"
      ],
      "metadata": {
        "id": "gStmEZDmuDo_",
        "colab": {
          "base_uri": "https://localhost:8080/"
        },
        "outputId": "20c9545d-d744-4f79-a6b3-b49e3874e05d"
      },
      "execution_count": null,
      "outputs": [
        {
          "output_type": "stream",
          "name": "stderr",
          "text": [
            "<ipython-input-10-dd8adfd3f7b1>:4: DeprecationWarning: Call to deprecated function (or staticmethod) load_problem. (Will be removed in newer versions. Use `tsplib95.load` instead.) -- Deprecated since version 7.0.0.\n",
            "  problema=tsplib95.load_problem('./ulysses16.tsp')#6859\n"
          ]
        }
      ]
    },
    {
      "cell_type": "code",
      "source": [
        "#problema=tsplib95.load_problem('./berlin52.tsp')#40160\n",
        "#costeoptimo=7542\n",
        "#pathoptimo=[1,49,32,45,19,41,8,9,10,43,33,51,11,52,14,13,47,26,27,28,12,25,4,6,15,5,24,48,38,37,40,39,36,35,34,44,46,16,29,50,20,23,30,2,7,42,21,17,3,18,31,22]\n",
        "#problema.trace_tours([pathoptimo])"
      ],
      "metadata": {
        "id": "GIUOjNHbsCPd"
      },
      "execution_count": null,
      "outputs": []
    },
    {
      "cell_type": "code",
      "source": [
        "#PARAMETROS\n",
        "NUM_Luci=11\n",
        "NUM_Mut=11\n",
        "Iter=8000"
      ],
      "metadata": {
        "id": "wrNRtOyf2esx"
      },
      "execution_count": null,
      "outputs": []
    },
    {
      "cell_type": "code",
      "source": [
        "G = problema.get_graph()\n",
        "problema.trace_canonical_tour()"
      ],
      "metadata": {
        "colab": {
          "base_uri": "https://localhost:8080/"
        },
        "id": "GN9RXyqCv2bj",
        "outputId": "55b4a81d-b7f9-4c9d-ce64-3f1e76cb42b6"
      },
      "execution_count": null,
      "outputs": [
        {
          "output_type": "execute_result",
          "data": {
            "text/plain": [
              "9665"
            ]
          },
          "metadata": {},
          "execution_count": 13
        }
      ]
    },
    {
      "cell_type": "code",
      "source": [
        "#clase luciernaga. \n",
        "#tiene dos componentes, el camino y su coste\n",
        "class Luciernaga:\n",
        "  \n",
        "    def __init__(self, path):\n",
        "        self.path = path   \n",
        "        aux=problema.trace_tours([self.path])\n",
        "        self.coste=aux[0]\n",
        "\n",
        "    def __repr__(self):\n",
        "        print(\"La luciernaga actual es\")\n",
        "        print(self.path)\n",
        "        print(\"con coste de \")\n",
        "        aux=problema.trace_tours([self.path])\n",
        "        print(aux)\n",
        "        print(\"y es optimo en un\")\n",
        "        self.coste=aux[0]\n",
        "        print(costeoptimo/self.coste*100)\n",
        "        print(\"\")\n",
        "        return \"\"\n",
        "\n",
        "\n",
        "        "
      ],
      "metadata": {
        "id": "L1Gyy26XOOxg"
      },
      "execution_count": null,
      "outputs": []
    },
    {
      "cell_type": "code",
      "execution_count": null,
      "metadata": {
        "id": "3miVYNCRFyw0"
      },
      "outputs": [],
      "source": [
        "#calcula el numero de arcos diferentes entre dos luciernagas. \n",
        "#NO usado en el algortimo final\n",
        "def arc_dis(luci1,luci2):\n",
        "  diferencias=0\n",
        "  luci1pairs=list(zip(luci1.path[0:],luci1.path[1:]))\n",
        "  luci2pairs=list(zip(luci2.path[0:],luci2.path[1:]))\n",
        "  difarcs1=[]\n",
        "  difarcs2=[]\n",
        "  for e in luci1pairs:\n",
        "    if e not in luci2pairs:\n",
        "      difarcs1.append(e)\n",
        "      diferencias+=1\n",
        "  for e in luci2pairs:\n",
        "    if e not in luci1pairs:\n",
        "      difarcs2.append(e)\n",
        "  #diferencias=diferencias/len(luci1pairs)*10\n",
        "  np.random.shuffle(difarcs1)\n",
        "  np.random.shuffle(difarcs2)\n",
        "  return (diferencias,difarcs1,difarcs2)"
      ]
    },
    {
      "cell_type": "code",
      "execution_count": null,
      "metadata": {
        "id": "3lAMUlRc3zI2"
      },
      "outputs": [],
      "source": []
    },
    {
      "cell_type": "code",
      "source": [
        "#mutacion inversa de tamaño r\n",
        "def inversemut(luci1,r):\n",
        "  luciaux=deepcopy(luci1)\n",
        "  tam=r\n",
        "  if(tam<2):\n",
        "    tam=2\n",
        "\n",
        "  if(tam>=len(luci1.path)):\n",
        "    tam=len(luci1.path)-1\n",
        "    \n",
        "  primindice=random.randrange(0, len(luci1.path)-tam+1, 1)\n",
        "\n",
        "  aux=luciaux.path[primindice:primindice+tam]\n",
        "  luciaux.path[primindice:primindice+tam]=aux[::-1]\n",
        "  return luciaux"
      ],
      "metadata": {
        "id": "BcNT9zLYLA0i"
      },
      "execution_count": null,
      "outputs": []
    },
    {
      "cell_type": "code",
      "source": [
        "#mutacion inversa de tamaño aleatorio, entre 2 y r\n",
        "def inversemutrandom(luci1,r):\n",
        "  luciaux=deepcopy(luci1)\n",
        "  tam=random.randrange(2, r+1, 1)\n",
        "  if(tam<2):\n",
        "    tam=2\n",
        "  if(tam>=len(luci1.path)):\n",
        "    tam=len(luci1.path)-1\n",
        "\n",
        "  primindice=random.randrange(0, len(luci1.path)-tam+1, 1)\n",
        "\n",
        "  aux=luciaux.path[primindice:primindice+tam]\n",
        "  luciaux.path[primindice:primindice+tam]=aux[::-1]\n",
        "  return luciaux"
      ],
      "metadata": {
        "id": "wRTNIPDJPXai"
      },
      "execution_count": null,
      "outputs": []
    },
    {
      "cell_type": "code",
      "source": [],
      "metadata": {
        "id": "wEV5LLSpClUD"
      },
      "execution_count": null,
      "outputs": []
    },
    {
      "cell_type": "code",
      "source": [
        "#funcion que mueve una luciernaga a otra\n",
        "from numpy.lib import index_tricks\n",
        "def moveLuci(luci1,luci2):\n",
        "  luciaux=deepcopy(luci1)\n",
        "  numarcs,difarcs1,difarcs2=arc_dis(luci1,luci2)\n",
        "  #simplemente voy a copiar el primero de la lista\n",
        "  #esto solo lo voy a hacer si el numero de arcos diferentes es 3 o mas.\n",
        "  #si hay dos arcos diferntes, en realidad estas copiando y si lo hacercas mas se convierten \n",
        "  #en el mismo \n",
        "  if numarcs>2:\n",
        "    primero=difarcs1[0][0]\n",
        "    indexprimero=luci2.path.index(primero)\n",
        "\n",
        "    if indexprimero==(len(luci1.path)-1):\n",
        "      indexprimero=0\n",
        "\n",
        "    numprimero=deepcopy(difarcs1[0][1])\n",
        "    numsegundo=deepcopy(luci2.path[indexprimero+1])\n",
        "\n",
        "    indexprimero=luci1.path.index(numprimero)\n",
        "    indexsegundo=luci1.path.index(numsegundo)\n",
        "    #print(\"el \",numprimero,\" esta en el indice\",indexprimero)\n",
        "    #print(\"el \",numsegundo,\" esta en el indice\",indexsegundo)\n",
        "    luciaux.path[indexprimero]=numsegundo\n",
        "    luciaux.path[indexsegundo]=numprimero\n",
        "    luciaux.coste=problema.trace_tours([luciaux.path])[0]\n",
        "  else:\n",
        "    mov1=deepcopy(luci1)\n",
        "    mov1=inversemutrandom(mov1,52)\n",
        "    mov1.coste=problema.trace_tours([mov1.path])[0]\n",
        "    luciaux=mov1\n",
        "  return luciaux"
      ],
      "metadata": {
        "id": "pEItXHagep2S"
      },
      "execution_count": null,
      "outputs": []
    },
    {
      "cell_type": "code",
      "source": [
        "#imprimir visualmente el camino de una luciernaga\n",
        "def printluci(luci):\n",
        "  x=[]\n",
        "  y=[]\n",
        "  for i in range(len(luci.path)):\n",
        "   \n",
        "    x.append(G.nodes[luci.path[i]][\"coord\"][0])\n",
        "    y.append(G.nodes[luci.path[i]][\"coord\"][1])\n",
        "\n",
        "  #cierro el camino\n",
        "  x.append(G.nodes[luci.path[0]][\"coord\"][0])\n",
        "  y.append(G.nodes[luci.path[0]][\"coord\"][1])\n",
        "\n",
        "  plt.plot(x,y,\"o\")\n",
        "  plt.plot(x,y)\n",
        "  return"
      ],
      "metadata": {
        "id": "2jJS0XB4ghpA"
      },
      "execution_count": null,
      "outputs": []
    },
    {
      "cell_type": "code",
      "execution_count": null,
      "metadata": {
        "id": "5fAhDPl54RTe"
      },
      "outputs": [],
      "source": [
        "# es muy dificil mutar las los extremos, asi que movemos todas las posiciones: 1,2,3,4,5,6->. 3,4,5,6,1,2\n",
        "#sigue siendo el mismo camino.P\n",
        "#Pero esto es necesario por el sesgo que tiene la mutacion implementada\n",
        "def avanzar20(luci1):\n",
        "  path=luci1.path[20:]\n",
        "  for z in luci1.path[0:20]:\n",
        "    path.append(z)\n",
        "  return path"
      ]
    },
    {
      "cell_type": "code",
      "source": [
        "#generamos la poblacion inicial\n"
      ],
      "metadata": {
        "id": "J0UkKR4ancxz"
      },
      "execution_count": null,
      "outputs": []
    },
    {
      "cell_type": "code",
      "source": [],
      "metadata": {
        "id": "ihr-YbvOcMjF"
      },
      "execution_count": null,
      "outputs": []
    },
    {
      "cell_type": "code",
      "source": [
        "pathbase=[]\n",
        "poblacion=[]\n",
        "poblaciongrande=[]\n",
        "\n",
        "for i in range (len(G.nodes)):\n",
        "  pathbase.append(i+1)\n",
        "print(pathbase)\n",
        "print(\"Ahora vamos a ver si los dos toura sson iguales\")\n",
        "print(\"si lo son es que el camino va bien\")\n",
        "print(problema.trace_canonical_tour())\n",
        "print(problema.trace_tours([pathbase])[0])\n",
        "print(\"\")\n",
        "print(\"\")\n",
        "for i in range (NUM_Luci):\n",
        "  np.random.shuffle(pathbase)\n",
        "  print(pathbase)\n",
        "  luci=Luciernaga(pathbase)\n",
        "  poblacion.append(luci)\n",
        "  pathbase=deepcopy(pathbase)\n",
        "\n"
      ],
      "metadata": {
        "id": "DP9qCoWDnJ52",
        "colab": {
          "base_uri": "https://localhost:8080/"
        },
        "outputId": "d8d29508-406b-439d-9e04-7902bffa0980"
      },
      "execution_count": null,
      "outputs": [
        {
          "output_type": "stream",
          "name": "stdout",
          "text": [
            "[1, 2, 3, 4, 5, 6, 7, 8, 9, 10, 11, 12, 13, 14, 15, 16]\n",
            "Ahora vamos a ver si los dos toura sson iguales\n",
            "si lo son es que el camino va bien\n",
            "9665\n",
            "9665\n",
            "\n",
            "\n",
            "[3, 7, 4, 2, 15, 5, 12, 14, 1, 13, 6, 8, 10, 11, 16, 9]\n",
            "[2, 3, 12, 10, 16, 14, 13, 5, 11, 7, 8, 6, 15, 1, 9, 4]\n",
            "[1, 2, 4, 14, 6, 16, 11, 3, 9, 13, 7, 5, 10, 12, 15, 8]\n",
            "[11, 7, 10, 15, 5, 2, 1, 4, 8, 12, 13, 3, 6, 14, 16, 9]\n",
            "[2, 1, 10, 15, 9, 12, 14, 13, 3, 5, 7, 6, 8, 11, 16, 4]\n",
            "[15, 3, 8, 4, 2, 6, 10, 5, 12, 1, 14, 11, 9, 16, 7, 13]\n",
            "[8, 4, 13, 11, 12, 10, 1, 15, 9, 6, 16, 14, 5, 2, 7, 3]\n",
            "[3, 11, 13, 14, 9, 5, 6, 2, 10, 16, 1, 7, 12, 4, 8, 15]\n",
            "[1, 3, 15, 10, 11, 9, 5, 13, 7, 8, 14, 2, 6, 16, 4, 12]\n",
            "[7, 4, 16, 13, 14, 9, 5, 10, 11, 1, 8, 6, 12, 3, 2, 15]\n",
            "[8, 5, 7, 1, 10, 12, 6, 14, 13, 3, 16, 2, 11, 9, 15, 4]\n"
          ]
        }
      ]
    },
    {
      "cell_type": "code",
      "source": [
        "print(costeoptimo)"
      ],
      "metadata": {
        "colab": {
          "base_uri": "https://localhost:8080/"
        },
        "id": "rWZhjmIOoXF6",
        "outputId": "3de66c1e-6b95-4ca2-ac47-b292f08787f7"
      },
      "execution_count": null,
      "outputs": [
        {
          "output_type": "stream",
          "name": "stdout",
          "text": [
            "6859\n"
          ]
        }
      ]
    },
    {
      "cell_type": "code",
      "source": [
        "import time\n",
        "inicio = time.time()\n",
        "Iter=2000\n",
        "NUM_Luci=11\n",
        "mejorluci=[]\n",
        "itermejorluci=[]\n",
        "mejorcoste=poblacion[0].coste\n",
        "itermejorcoste=0\n",
        "for i in range(Iter):\n",
        "  poblaciongrande=[]\n",
        "  poblaciongrande.append(poblacion[0])\n",
        "      \n",
        "  #poblaciongrande=[]\n",
        "\n",
        "  for j in range(len(poblacion)):\n",
        "   #la luci1 es mejor que luci2 \n",
        "    #print(\"en la vez numero \",j)\n",
        "    luci1=deepcopy(poblacion[j])\n",
        "\n",
        "    for k in range (len(poblacion)-j-1):#la 0 se compara con 1->10\n",
        "                    #la 1 se compara con 2->10\n",
        "                    #la 2 se compara con 3->10\n",
        "                    #eso es k+j\n",
        "      #print(\"j es \",j,\" k es \",k,\" j+k es \",j+k+1)\n",
        "      luci2=deepcopy(poblacion[j+k+1])\n",
        "      \n",
        "      #hay que mover todas , la primera random y la segunda hasta la primera\n",
        "      mov1=deepcopy(luci1)\n",
        "      mov1=inversemutrandom(mov1,16)#IMPORTANTE CAMBIAR CADA VEZ, depende del problema\n",
        "      mov1.coste=problema.trace_tours([mov1.path])[0]\n",
        "      if (mov1.coste not in [p.coste for p in poblaciongrande]):#evitamos que se repitan\n",
        "        poblaciongrande.append(mov1)\n",
        "      \n",
        "\n",
        "      #movemos la luciernaga menos brillante a la que mas\n",
        "      mov2=moveLuci(luci2,luci1)\n",
        "      if (mov2.coste not in [p.coste for p in poblaciongrande]):\n",
        "        poblaciongrande.append(mov2)\n",
        "\n",
        "      \n",
        "  \n",
        "  poblaciongrande.sort(key=lambda x: x.coste, reverse=False)\n",
        "\n",
        "  #para las graficas\n",
        "  poblacion=deepcopy(poblaciongrande[0:NUM_Luci])\n",
        "  if i%100==0:\n",
        "    mejorluci.append(poblacion[0].coste)\n",
        "    itermejorluci.append(i)\n",
        "    if (poblacion[0].coste<mejorcoste):\n",
        "      mejorcoste=poblacion[0].coste\n",
        "      itermejorcoste=i\n",
        "\n",
        "  #cada 400, movemos todos los caminos 20 hacia la derecha\n",
        "  #e imprimos el coste de la mejorluciernaga    \n",
        "  if i%400==0:  \n",
        "    print(i)\n",
        "    print(poblacion[0].coste)\n",
        "    pob=[]\n",
        "    for e in poblacion:\n",
        "      e.path=deepcopy(avanzar20(e))\n",
        "      #e.coste=problema.trace_tours([e.path])\n",
        "      pob.append(e)\n",
        "    poblacionactual=deepcopy(pob)\n",
        "\n",
        "  #si lo encontramos\n",
        "  if ((poblacion[0].coste-costeoptimo)<0.0001):\n",
        "    print(\"encontrado\")\n",
        "    print(i)\n",
        "    break\n",
        "fin = time.time()\n",
        "print(fin-inicio)\n",
        "print(\"iter \",itermejorcoste,\" del mejor coste\",mejorcoste)"
      ],
      "metadata": {
        "colab": {
          "base_uri": "https://localhost:8080/"
        },
        "id": "RVpgRwqRm4cr",
        "outputId": "ed1d85aa-55f7-490f-f377-84d8dc3e3706"
      },
      "execution_count": null,
      "outputs": [
        {
          "output_type": "stream",
          "name": "stdout",
          "text": [
            "0\n",
            "10685\n",
            "encontrado\n",
            "36\n",
            "1.4155137538909912\n",
            "iter  0  del mejor coste 10685\n"
          ]
        }
      ]
    },
    {
      "cell_type": "code",
      "source": [],
      "metadata": {
        "id": "UXWZ0W8W-Na8"
      },
      "execution_count": null,
      "outputs": []
    },
    {
      "cell_type": "code",
      "source": [
        "print(i)"
      ],
      "metadata": {
        "id": "0Vq5IAE70jt8",
        "colab": {
          "base_uri": "https://localhost:8080/"
        },
        "outputId": "ca14315f-a1e0-4bce-c3b9-336d8121c1c1"
      },
      "execution_count": null,
      "outputs": [
        {
          "output_type": "stream",
          "name": "stdout",
          "text": [
            "36\n"
          ]
        }
      ]
    },
    {
      "cell_type": "code",
      "source": [
        "printluci(Luciernaga(pathoptimo))\n"
      ],
      "metadata": {
        "colab": {
          "base_uri": "https://localhost:8080/",
          "height": 285
        },
        "id": "_9Vyxy1dw4tT",
        "outputId": "2dc2360d-593d-4d92-a41e-b8423b8fb19b"
      },
      "execution_count": null,
      "outputs": [
        {
          "output_type": "display_data",
          "data": {
            "text/plain": [
              "<Figure size 432x288 with 1 Axes>"
            ],
            "image/png": "[encoded data removed]"
          },
          "metadata": {
            "needs_background": "light"
          }
        }
      ]
    },
    {
      "cell_type": "code",
      "source": [
        "printluci(poblacion[0])\n"
      ],
      "metadata": {
        "id": "f22tfNZn3JqG",
        "colab": {
          "base_uri": "https://localhost:8080/",
          "height": 285
        },
        "outputId": "2260f99b-d632-450e-a1fe-801241581b4e"
      },
      "execution_count": null,
      "outputs": [
        {
          "output_type": "display_data",
          "data": {
            "text/plain": [
              "<Figure size 432x288 with 1 Axes>"
            ],
            "image/png": "[encoded data removed]"
          },
          "metadata": {
            "needs_background": "light"
          }
        }
      ]
    },
    {
      "cell_type": "code",
      "source": [
        "printluci(poblacion[1])"
      ],
      "metadata": {
        "colab": {
          "base_uri": "https://localhost:8080/",
          "height": 285
        },
        "id": "eE__TDxtMMLS",
        "outputId": "36d7e180-bb65-462b-bea7-5a82f5b60096"
      },
      "execution_count": null,
      "outputs": [
        {
          "output_type": "display_data",
          "data": {
            "text/plain": [
              "<Figure size 432x288 with 1 Axes>"
            ],
            "image/png": "[encoded data removed]"
          },
          "metadata": {
            "needs_background": "light"
          }
        }
      ]
    },
    {
      "cell_type": "code",
      "source": [
        "poblacion\n"
      ],
      "metadata": {
        "id": "h61PknZh_3BB",
        "colab": {
          "base_uri": "https://localhost:8080/"
        },
        "outputId": "5ac60a34-14b8-465f-a183-c23ca7635e0c"
      },
      "execution_count": null,
      "outputs": [
        {
          "output_type": "stream",
          "name": "stdout",
          "text": [
            "La luciernaga actual es\n",
            "[15, 5, 11, 9, 10, 16, 3, 2, 4, 8, 1, 14, 13, 12, 7, 6]\n",
            "con coste de \n",
            "[6859]\n",
            "y es optimo en un\n",
            "100.0\n",
            "\n",
            "La luciernaga actual es\n",
            "[8, 1, 15, 5, 11, 9, 10, 7, 6, 14, 13, 12, 16, 3, 2, 4]\n",
            "con coste de \n",
            "[6870]\n",
            "y es optimo en un\n",
            "99.83988355167395\n",
            "\n",
            "La luciernaga actual es\n",
            "[1, 4, 2, 3, 16, 12, 13, 14, 6, 7, 10, 9, 11, 5, 15, 8]\n",
            "con coste de \n",
            "[6890]\n",
            "y es optimo en un\n",
            "99.5500725689405\n",
            "\n",
            "La luciernaga actual es\n",
            "[15, 5, 11, 9, 10, 6, 7, 14, 13, 12, 16, 3, 2, 4, 8, 1]\n",
            "con coste de \n",
            "[6907]\n",
            "y es optimo en un\n",
            "99.30505284493991\n",
            "\n",
            "La luciernaga actual es\n",
            "[1, 15, 5, 11, 9, 10, 7, 6, 12, 13, 14, 16, 3, 2, 4, 8]\n",
            "con coste de \n",
            "[6912]\n",
            "y es optimo en un\n",
            "99.2332175925926\n",
            "\n",
            "La luciernaga actual es\n",
            "[8, 15, 5, 11, 9, 10, 6, 7, 14, 13, 12, 16, 3, 2, 4, 1]\n",
            "con coste de \n",
            "[6927]\n",
            "y es optimo en un\n",
            "99.01833405514652\n",
            "\n",
            "La luciernaga actual es\n",
            "[15, 5, 11, 9, 10, 7, 6, 12, 13, 14, 16, 3, 2, 4, 1, 8]\n",
            "con coste de \n",
            "[6932]\n",
            "y es optimo en un\n",
            "98.94691286785921\n",
            "\n",
            "La luciernaga actual es\n",
            "[15, 5, 11, 9, 10, 7, 6, 14, 13, 12, 1, 8, 4, 2, 3, 16]\n",
            "con coste de \n",
            "[6949]\n",
            "y es optimo en un\n",
            "98.70484961865017\n",
            "\n",
            "La luciernaga actual es\n",
            "[8, 1, 13, 14, 7, 6, 10, 9, 11, 5, 15, 12, 16, 3, 2, 4]\n",
            "con coste de \n",
            "[7004]\n",
            "y es optimo en un\n",
            "97.92975442604227\n",
            "\n",
            "La luciernaga actual es\n",
            "[15, 5, 11, 9, 10, 7, 6, 14, 13, 12, 16, 8, 4, 2, 3, 1]\n",
            "con coste de \n",
            "[7018]\n",
            "y es optimo en un\n",
            "97.73439726417783\n",
            "\n",
            "La luciernaga actual es\n",
            "[8, 1, 14, 13, 6, 7, 10, 9, 11, 5, 15, 12, 16, 3, 2, 4]\n",
            "con coste de \n",
            "[7026]\n",
            "y es optimo en un\n",
            "97.62311414745231\n",
            "\n"
          ]
        },
        {
          "output_type": "execute_result",
          "data": {
            "text/plain": [
              "[, , , , , , , , , , ]"
            ]
          },
          "metadata": {},
          "execution_count": 29
        }
      ]
    },
    {
      "cell_type": "code",
      "source": [
        "plt.plot(itermejorluci,mejorluci)\n"
      ],
      "metadata": {
        "id": "YIMy-NTLyfp4",
        "colab": {
          "base_uri": "https://localhost:8080/",
          "height": 303
        },
        "outputId": "b843ae18-a163-46ee-e0b0-f7ac3cf210d8"
      },
      "execution_count": null,
      "outputs": [
        {
          "output_type": "execute_result",
          "data": {
            "text/plain": [
              "[<matplotlib.lines.Line2D at 0x7f9a00449c40>]"
            ]
          },
          "metadata": {},
          "execution_count": 30
        },
        {
          "output_type": "display_data",
          "data": {
            "text/plain": [
              "<Figure size 432x288 with 1 Axes>"
            ],
            "image/png": "[encoded data removed]"
          },
          "metadata": {
            "needs_background": "light"
          }
        }
      ]
    }
  ],
  "metadata": {
    "colab": {
      "provenance": []
    },
    "kernelspec": {
      "display_name": "Python 3",
      "name": "python3"
    },
    "language_info": {
      "name": "python"
    }
  },
  "nbformat": 4,
  "nbformat_minor": 0
}
